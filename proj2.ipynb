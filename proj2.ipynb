{
  "cells": [
    {
      "cell_type": "code",
      "execution_count": 37,
      "metadata": {
        "id": "PZyEpI9nHjYG"
      },
      "outputs": [],
      "source": [
        "import sqlite3 \n",
        "import pandas as pd\n",
        "import matplotlib.pyplot as plt\n",
        "import numpy as np\n"
      ]
    },
    {
      "attachments": {},
      "cell_type": "markdown",
      "metadata": {},
      "source": [
        "## Part 1: Wrangling\n",
        "## Problem 1"
      ]
    },
    {
      "cell_type": "code",
      "execution_count": 39,
      "metadata": {},
      "outputs": [
        {
          "ename": "OperationalError",
          "evalue": "no such table: Teams",
          "output_type": "error",
          "traceback": [
            "\u001b[0;31m---------------------------------------------------------------------------\u001b[0m",
            "\u001b[0;31mOperationalError\u001b[0m                          Traceback (most recent call last)",
            "Cell \u001b[0;32mIn[39], line 31\u001b[0m\n\u001b[1;32m      3\u001b[0m query \u001b[39m=\u001b[39m \u001b[39m\"\"\"\u001b[39m\n\u001b[1;32m      4\u001b[0m \u001b[39mSELECT\u001b[39m\n\u001b[1;32m      5\u001b[0m \u001b[39m    t.teamID,\u001b[39m\n\u001b[0;32m   (...)\u001b[0m\n\u001b[1;32m     27\u001b[0m \u001b[39m) s ON t.teamID = s.teamID AND t.yearID = s.yearID\u001b[39m\n\u001b[1;32m     28\u001b[0m \u001b[39m\"\"\"\u001b[39m\n\u001b[1;32m     30\u001b[0m \u001b[39m# Execute the query\u001b[39;00m\n\u001b[0;32m---> 31\u001b[0m results \u001b[39m=\u001b[39m conn\u001b[39m.\u001b[39;49mexecute(query)\u001b[39m.\u001b[39mfetchall()\n\u001b[1;32m     33\u001b[0m \u001b[39m# Print the first few rows of the results\u001b[39;00m\n\u001b[1;32m     34\u001b[0m \u001b[39mfor\u001b[39;00m row \u001b[39min\u001b[39;00m results:\n",
            "\u001b[0;31mOperationalError\u001b[0m: no such table: Teams"
          ]
        }
      ],
      "source": [
        "conn = sqlite3.connect(\"lahman2014.sqlite\")\n",
        "\n",
        "query = \"\"\"\n",
        "SELECT\n",
        "    t.teamID,\n",
        "    t.yearID,\n",
        "    t.franchID,\n",
        "    t.W AS wins,\n",
        "    t.G AS games_played,\n",
        "    COALESCE(s.total_payroll, 0) AS total_payroll,\n",
        "    CASE\n",
        "        WHEN t.G = 0 THEN NULL\n",
        "        ELSE (t.W * 1.0 / t.G) * 100.0  -- Avoid integer division\n",
        "    END AS winning_percentage\n",
        "FROM\n",
        "    Teams t\n",
        "LEFT JOIN (\n",
        "    SELECT\n",
        "        teamID,\n",
        "        yearID,\n",
        "        SUM(salary) AS total_payroll\n",
        "    FROM\n",
        "        Salaries\n",
        "    GROUP BY\n",
        "        teamID,\n",
        "        yearID\n",
        ") s ON t.teamID = s.teamID AND t.yearID = s.yearID\n",
        "\"\"\"\n",
        "\n",
        "# Execute the query\n",
        "results = conn.execute(query).fetchall()\n",
        "\n",
        "# Print the first few rows of the results\n",
        "for row in results:\n",
        "    print(row)\n",
        "\n",
        "\n",
        "print()\n",
        "print()\n",
        "\n",
        "\n",
        "query_2014 = \"\"\"SELECT\n",
        "    t.teamID,\n",
        "    t.yearID,\n",
        "    t.franchID,\n",
        "    t.W AS wins,\n",
        "    t.G AS games_played,\n",
        "    COALESCE(s.total_payroll, 0) AS total_payroll,\n",
        "    CASE\n",
        "        WHEN t.G = 0 THEN NULL\n",
        "        ELSE (t.W * 1.0 / t.G) * 100.0  -- Avoid integer division\n",
        "    END AS winning_percentage\n",
        "FROM\n",
        "    Teams t\n",
        "LEFT JOIN (\n",
        "    SELECT\n",
        "        teamID,\n",
        "        yearID,\n",
        "        SUM(salary) AS total_payroll\n",
        "    FROM\n",
        "        Salaries\n",
        "    GROUP BY\n",
        "        teamID,\n",
        "        yearID\n",
        ") s ON t.teamID = s.teamID AND t.yearID = s.yearID WHERE t.yearID == 2014 \"\"\"\n",
        "\n",
        "# only has the data form the 2014 season \n",
        "results = conn.execute(query_2014).fetchall()\n",
        "\n",
        "for rows in results:\n",
        "    print(rows)\n",
        "\n",
        "years = pd.read_sql(query, conn)\n",
        "data_2014 = years[years['yearID'] == 2014]\n",
        "print(years)\n",
        "\n",
        "conn.close()"
      ]
    },
    {
      "attachments": {},
      "cell_type": "markdown",
      "metadata": {},
      "source": [
        "## Part 2: Exploratory Data Analysis \n",
        "\n",
        "# Problem 2"
      ]
    },
    {
      "cell_type": "code",
      "execution_count": null,
      "metadata": {},
      "outputs": [
        {
          "ename": "DatabaseError",
          "evalue": "Execution failed on sql '\nSELECT\n    teamID,\n    yearID,\n    sum(salary) as total_payroll\nFROM\n    Salaries\nWHERE\n    yearID BETWEEN 1990 AND 2014\nGROUP BY\n    teamID,\n    yearID\n': no such table: Salaries",
          "output_type": "error",
          "traceback": [
            "\u001b[0;31m---------------------------------------------------------------------------\u001b[0m",
            "\u001b[0;31mOperationalError\u001b[0m                          Traceback (most recent call last)",
            "File \u001b[0;32m~/miniconda3/lib/python3.11/site-packages/pandas/io/sql.py:2675\u001b[0m, in \u001b[0;36mSQLiteDatabase.execute\u001b[0;34m(self, sql, params)\u001b[0m\n\u001b[1;32m   2674\u001b[0m \u001b[39mtry\u001b[39;00m:\n\u001b[0;32m-> 2675\u001b[0m     cur\u001b[39m.\u001b[39;49mexecute(sql, \u001b[39m*\u001b[39;49margs)\n\u001b[1;32m   2676\u001b[0m     \u001b[39mreturn\u001b[39;00m cur\n",
            "\u001b[0;31mOperationalError\u001b[0m: no such table: Salaries",
            "\nThe above exception was the direct cause of the following exception:\n",
            "\u001b[0;31mDatabaseError\u001b[0m                             Traceback (most recent call last)",
            "Cell \u001b[0;32mIn[10], line 17\u001b[0m\n\u001b[1;32m      1\u001b[0m conn \u001b[39m=\u001b[39m sqlite3\u001b[39m.\u001b[39mconnect(\u001b[39m\"\u001b[39m\u001b[39mlahman2014.sqlite\u001b[39m\u001b[39m\"\u001b[39m)\n\u001b[1;32m      3\u001b[0m query_payrolls \u001b[39m=\u001b[39m \u001b[39m\"\"\"\u001b[39m\n\u001b[1;32m      4\u001b[0m \u001b[39mSELECT\u001b[39m\n\u001b[1;32m      5\u001b[0m \u001b[39m    teamID,\u001b[39m\n\u001b[0;32m   (...)\u001b[0m\n\u001b[1;32m     14\u001b[0m \u001b[39m    yearID\u001b[39m\n\u001b[1;32m     15\u001b[0m \u001b[39m\"\"\"\u001b[39m\n\u001b[0;32m---> 17\u001b[0m payrolls_data \u001b[39m=\u001b[39m pd\u001b[39m.\u001b[39;49mread_sql(query_payrolls, conn)\n\u001b[1;32m     19\u001b[0m conn\u001b[39m.\u001b[39mclose()\n\u001b[1;32m     21\u001b[0m payrolls_pivot \u001b[39m=\u001b[39m payrolls_data\u001b[39m.\u001b[39mpivot(index\u001b[39m=\u001b[39m\u001b[39m'\u001b[39m\u001b[39myearID\u001b[39m\u001b[39m'\u001b[39m, columns\u001b[39m=\u001b[39m\u001b[39m'\u001b[39m\u001b[39mteamID\u001b[39m\u001b[39m'\u001b[39m, values\u001b[39m=\u001b[39m\u001b[39m'\u001b[39m\u001b[39mtotal_payroll\u001b[39m\u001b[39m'\u001b[39m)\n",
            "File \u001b[0;32m~/miniconda3/lib/python3.11/site-packages/pandas/io/sql.py:706\u001b[0m, in \u001b[0;36mread_sql\u001b[0;34m(sql, con, index_col, coerce_float, params, parse_dates, columns, chunksize, dtype_backend, dtype)\u001b[0m\n\u001b[1;32m    704\u001b[0m \u001b[39mwith\u001b[39;00m pandasSQL_builder(con) \u001b[39mas\u001b[39;00m pandas_sql:\n\u001b[1;32m    705\u001b[0m     \u001b[39mif\u001b[39;00m \u001b[39misinstance\u001b[39m(pandas_sql, SQLiteDatabase):\n\u001b[0;32m--> 706\u001b[0m         \u001b[39mreturn\u001b[39;00m pandas_sql\u001b[39m.\u001b[39;49mread_query(\n\u001b[1;32m    707\u001b[0m             sql,\n\u001b[1;32m    708\u001b[0m             index_col\u001b[39m=\u001b[39;49mindex_col,\n\u001b[1;32m    709\u001b[0m             params\u001b[39m=\u001b[39;49mparams,\n\u001b[1;32m    710\u001b[0m             coerce_float\u001b[39m=\u001b[39;49mcoerce_float,\n\u001b[1;32m    711\u001b[0m             parse_dates\u001b[39m=\u001b[39;49mparse_dates,\n\u001b[1;32m    712\u001b[0m             chunksize\u001b[39m=\u001b[39;49mchunksize,\n\u001b[1;32m    713\u001b[0m             dtype_backend\u001b[39m=\u001b[39;49mdtype_backend,\n\u001b[1;32m    714\u001b[0m             dtype\u001b[39m=\u001b[39;49mdtype,\n\u001b[1;32m    715\u001b[0m         )\n\u001b[1;32m    717\u001b[0m     \u001b[39mtry\u001b[39;00m:\n\u001b[1;32m    718\u001b[0m         _is_table_name \u001b[39m=\u001b[39m pandas_sql\u001b[39m.\u001b[39mhas_table(sql)\n",
            "File \u001b[0;32m~/miniconda3/lib/python3.11/site-packages/pandas/io/sql.py:2739\u001b[0m, in \u001b[0;36mSQLiteDatabase.read_query\u001b[0;34m(self, sql, index_col, coerce_float, parse_dates, params, chunksize, dtype, dtype_backend)\u001b[0m\n\u001b[1;32m   2728\u001b[0m \u001b[39mdef\u001b[39;00m \u001b[39mread_query\u001b[39m(\n\u001b[1;32m   2729\u001b[0m     \u001b[39mself\u001b[39m,\n\u001b[1;32m   2730\u001b[0m     sql,\n\u001b[0;32m   (...)\u001b[0m\n\u001b[1;32m   2737\u001b[0m     dtype_backend: DtypeBackend \u001b[39m|\u001b[39m Literal[\u001b[39m\"\u001b[39m\u001b[39mnumpy\u001b[39m\u001b[39m\"\u001b[39m] \u001b[39m=\u001b[39m \u001b[39m\"\u001b[39m\u001b[39mnumpy\u001b[39m\u001b[39m\"\u001b[39m,\n\u001b[1;32m   2738\u001b[0m ) \u001b[39m-\u001b[39m\u001b[39m>\u001b[39m DataFrame \u001b[39m|\u001b[39m Iterator[DataFrame]:\n\u001b[0;32m-> 2739\u001b[0m     cursor \u001b[39m=\u001b[39m \u001b[39mself\u001b[39;49m\u001b[39m.\u001b[39;49mexecute(sql, params)\n\u001b[1;32m   2740\u001b[0m     columns \u001b[39m=\u001b[39m [col_desc[\u001b[39m0\u001b[39m] \u001b[39mfor\u001b[39;00m col_desc \u001b[39min\u001b[39;00m cursor\u001b[39m.\u001b[39mdescription]\n\u001b[1;32m   2742\u001b[0m     \u001b[39mif\u001b[39;00m chunksize \u001b[39mis\u001b[39;00m \u001b[39mnot\u001b[39;00m \u001b[39mNone\u001b[39;00m:\n",
            "File \u001b[0;32m~/miniconda3/lib/python3.11/site-packages/pandas/io/sql.py:2687\u001b[0m, in \u001b[0;36mSQLiteDatabase.execute\u001b[0;34m(self, sql, params)\u001b[0m\n\u001b[1;32m   2684\u001b[0m     \u001b[39mraise\u001b[39;00m ex \u001b[39mfrom\u001b[39;00m \u001b[39minner_exc\u001b[39;00m\n\u001b[1;32m   2686\u001b[0m ex \u001b[39m=\u001b[39m DatabaseError(\u001b[39mf\u001b[39m\u001b[39m\"\u001b[39m\u001b[39mExecution failed on sql \u001b[39m\u001b[39m'\u001b[39m\u001b[39m{\u001b[39;00msql\u001b[39m}\u001b[39;00m\u001b[39m'\u001b[39m\u001b[39m: \u001b[39m\u001b[39m{\u001b[39;00mexc\u001b[39m}\u001b[39;00m\u001b[39m\"\u001b[39m)\n\u001b[0;32m-> 2687\u001b[0m \u001b[39mraise\u001b[39;00m ex \u001b[39mfrom\u001b[39;00m \u001b[39mexc\u001b[39;00m\n",
            "\u001b[0;31mDatabaseError\u001b[0m: Execution failed on sql '\nSELECT\n    teamID,\n    yearID,\n    sum(salary) as total_payroll\nFROM\n    Salaries\nWHERE\n    yearID BETWEEN 1990 AND 2014\nGROUP BY\n    teamID,\n    yearID\n': no such table: Salaries"
          ]
        }
      ],
      "source": [
        "conn = sqlite3.connect(\"lahman2014.sqlite\")\n",
        "\n",
        "query_payrolls = \"\"\"\n",
        "SELECT\n",
        "    teamID,\n",
        "    yearID,\n",
        "    sum(salary) as total_payroll\n",
        "FROM\n",
        "    Salaries\n",
        "WHERE\n",
        "    yearID BETWEEN 1990 AND 2014\n",
        "GROUP BY\n",
        "    teamID,\n",
        "    yearID\n",
        "\"\"\"\n",
        "\n",
        "payrolls_data = pd.read_sql(query_payrolls, conn)\n",
        "\n",
        "conn.close()\n",
        "\n",
        "payrolls_pivot = payrolls_data.pivot(index='yearID', columns='teamID', values='total_payroll')\n",
        "\n",
        "\n",
        "\n",
        "plt.figure(figsize=(10, 8))\n",
        "\n",
        "colors = plt.cm.tab20.colors\n",
        "\n",
        "for i, team in enumerate(payrolls_pivot.columns):\n",
        "    plt.plot(payrolls_pivot.index, payrolls_pivot[team], label=team, color=colors[i % len(colors)])\n",
        "\n",
        "plt.xlabel('Year')\n",
        "plt.ylabel('Payroll (Millions USD ($))')\n",
        "plt.title('Payrolls Across Teams 1990-2014')\n",
        "plt.legend(loc='upper left', bbox_to_anchor=(1, 1))\n",
        "plt.grid(True)\n",
        "plt.tight_layout()\n",
        "plt.savefig('payrolls_across_teams.png')\n",
        "plt.show()"
      ]
    },
    {
      "attachments": {},
      "cell_type": "markdown",
      "metadata": {},
      "source": [
        "#### Question 1\n",
        "\n",
        "What statements can you make about the distribution of payrolls conditioned on time based on these plots? \n",
        "Remember you can make statements in terms of central tendency, spread, etc.\n",
        "\n"
      ]
    },
    {
      "attachments": {},
      "cell_type": "markdown",
      "metadata": {},
      "source": [
        "After pliotting the payrol over all the teams between 1990 and 2014, You can make the statements that the payroll has been on an upward trend, but has taken a more drastic increase in the more redcent years. Or that there is only one outlier in the data set which is the ATL Braves"
      ]
    },
    {
      "attachments": {},
      "cell_type": "markdown",
      "metadata": {},
      "source": [
        "#### Problem 3\n",
        "Write code to produce plots that specifically show at least one of the statements you made in Question 1. For example, if you make a statement that there is a trend for payrolls to decrease over time, make a plot of a statistic for central tendency (e.g., mean payroll) vs. time to show that specifically."
      ]
    },
    {
      "cell_type": "code",
      "execution_count": null,
      "metadata": {},
      "outputs": [
        {
          "ename": "DatabaseError",
          "evalue": "Execution failed on sql '\nSELECT \n    yearID,\n    AVG(salary) AS avg_salary\n    FROM\n        Salaries\n    WHERE\n        yearID BETWEEN 1990 AND 2014\n    GROUP BY\n        yearID\n     ': no such table: Salaries",
          "output_type": "error",
          "traceback": [
            "\u001b[0;31m---------------------------------------------------------------------------\u001b[0m",
            "\u001b[0;31mOperationalError\u001b[0m                          Traceback (most recent call last)",
            "File \u001b[0;32m~/miniconda3/lib/python3.11/site-packages/pandas/io/sql.py:2675\u001b[0m, in \u001b[0;36mSQLiteDatabase.execute\u001b[0;34m(self, sql, params)\u001b[0m\n\u001b[1;32m   2674\u001b[0m \u001b[39mtry\u001b[39;00m:\n\u001b[0;32m-> 2675\u001b[0m     cur\u001b[39m.\u001b[39;49mexecute(sql, \u001b[39m*\u001b[39;49margs)\n\u001b[1;32m   2676\u001b[0m     \u001b[39mreturn\u001b[39;00m cur\n",
            "\u001b[0;31mOperationalError\u001b[0m: no such table: Salaries",
            "\nThe above exception was the direct cause of the following exception:\n",
            "\u001b[0;31mDatabaseError\u001b[0m                             Traceback (most recent call last)",
            "Cell \u001b[0;32mIn[11], line 15\u001b[0m\n\u001b[1;32m      1\u001b[0m conn \u001b[39m=\u001b[39m sqlite3\u001b[39m.\u001b[39mconnect(\u001b[39m\"\u001b[39m\u001b[39mlahman2014.sqlite\u001b[39m\u001b[39m\"\u001b[39m)\n\u001b[1;32m      3\u001b[0m query_salaryAVG \u001b[39m=\u001b[39m \u001b[39m\"\"\"\u001b[39m\n\u001b[1;32m      4\u001b[0m \u001b[39mSELECT \u001b[39m\n\u001b[1;32m      5\u001b[0m \u001b[39m    yearID,\u001b[39m\n\u001b[0;32m   (...)\u001b[0m\n\u001b[1;32m     12\u001b[0m \u001b[39m        yearID\u001b[39m\n\u001b[1;32m     13\u001b[0m \u001b[39m     \u001b[39m\u001b[39m\"\"\"\u001b[39m\n\u001b[0;32m---> 15\u001b[0m payrolls_data \u001b[39m=\u001b[39m pd\u001b[39m.\u001b[39;49mread_sql(query_salaryAVG, conn)\n\u001b[1;32m     17\u001b[0m conn\u001b[39m.\u001b[39mclose()\n\u001b[1;32m     19\u001b[0m plt\u001b[39m.\u001b[39mfigure(figsize\u001b[39m=\u001b[39m(\u001b[39m10\u001b[39m, \u001b[39m8\u001b[39m))\n",
            "File \u001b[0;32m~/miniconda3/lib/python3.11/site-packages/pandas/io/sql.py:706\u001b[0m, in \u001b[0;36mread_sql\u001b[0;34m(sql, con, index_col, coerce_float, params, parse_dates, columns, chunksize, dtype_backend, dtype)\u001b[0m\n\u001b[1;32m    704\u001b[0m \u001b[39mwith\u001b[39;00m pandasSQL_builder(con) \u001b[39mas\u001b[39;00m pandas_sql:\n\u001b[1;32m    705\u001b[0m     \u001b[39mif\u001b[39;00m \u001b[39misinstance\u001b[39m(pandas_sql, SQLiteDatabase):\n\u001b[0;32m--> 706\u001b[0m         \u001b[39mreturn\u001b[39;00m pandas_sql\u001b[39m.\u001b[39;49mread_query(\n\u001b[1;32m    707\u001b[0m             sql,\n\u001b[1;32m    708\u001b[0m             index_col\u001b[39m=\u001b[39;49mindex_col,\n\u001b[1;32m    709\u001b[0m             params\u001b[39m=\u001b[39;49mparams,\n\u001b[1;32m    710\u001b[0m             coerce_float\u001b[39m=\u001b[39;49mcoerce_float,\n\u001b[1;32m    711\u001b[0m             parse_dates\u001b[39m=\u001b[39;49mparse_dates,\n\u001b[1;32m    712\u001b[0m             chunksize\u001b[39m=\u001b[39;49mchunksize,\n\u001b[1;32m    713\u001b[0m             dtype_backend\u001b[39m=\u001b[39;49mdtype_backend,\n\u001b[1;32m    714\u001b[0m             dtype\u001b[39m=\u001b[39;49mdtype,\n\u001b[1;32m    715\u001b[0m         )\n\u001b[1;32m    717\u001b[0m     \u001b[39mtry\u001b[39;00m:\n\u001b[1;32m    718\u001b[0m         _is_table_name \u001b[39m=\u001b[39m pandas_sql\u001b[39m.\u001b[39mhas_table(sql)\n",
            "File \u001b[0;32m~/miniconda3/lib/python3.11/site-packages/pandas/io/sql.py:2739\u001b[0m, in \u001b[0;36mSQLiteDatabase.read_query\u001b[0;34m(self, sql, index_col, coerce_float, parse_dates, params, chunksize, dtype, dtype_backend)\u001b[0m\n\u001b[1;32m   2728\u001b[0m \u001b[39mdef\u001b[39;00m \u001b[39mread_query\u001b[39m(\n\u001b[1;32m   2729\u001b[0m     \u001b[39mself\u001b[39m,\n\u001b[1;32m   2730\u001b[0m     sql,\n\u001b[0;32m   (...)\u001b[0m\n\u001b[1;32m   2737\u001b[0m     dtype_backend: DtypeBackend \u001b[39m|\u001b[39m Literal[\u001b[39m\"\u001b[39m\u001b[39mnumpy\u001b[39m\u001b[39m\"\u001b[39m] \u001b[39m=\u001b[39m \u001b[39m\"\u001b[39m\u001b[39mnumpy\u001b[39m\u001b[39m\"\u001b[39m,\n\u001b[1;32m   2738\u001b[0m ) \u001b[39m-\u001b[39m\u001b[39m>\u001b[39m DataFrame \u001b[39m|\u001b[39m Iterator[DataFrame]:\n\u001b[0;32m-> 2739\u001b[0m     cursor \u001b[39m=\u001b[39m \u001b[39mself\u001b[39;49m\u001b[39m.\u001b[39;49mexecute(sql, params)\n\u001b[1;32m   2740\u001b[0m     columns \u001b[39m=\u001b[39m [col_desc[\u001b[39m0\u001b[39m] \u001b[39mfor\u001b[39;00m col_desc \u001b[39min\u001b[39;00m cursor\u001b[39m.\u001b[39mdescription]\n\u001b[1;32m   2742\u001b[0m     \u001b[39mif\u001b[39;00m chunksize \u001b[39mis\u001b[39;00m \u001b[39mnot\u001b[39;00m \u001b[39mNone\u001b[39;00m:\n",
            "File \u001b[0;32m~/miniconda3/lib/python3.11/site-packages/pandas/io/sql.py:2687\u001b[0m, in \u001b[0;36mSQLiteDatabase.execute\u001b[0;34m(self, sql, params)\u001b[0m\n\u001b[1;32m   2684\u001b[0m     \u001b[39mraise\u001b[39;00m ex \u001b[39mfrom\u001b[39;00m \u001b[39minner_exc\u001b[39;00m\n\u001b[1;32m   2686\u001b[0m ex \u001b[39m=\u001b[39m DatabaseError(\u001b[39mf\u001b[39m\u001b[39m\"\u001b[39m\u001b[39mExecution failed on sql \u001b[39m\u001b[39m'\u001b[39m\u001b[39m{\u001b[39;00msql\u001b[39m}\u001b[39;00m\u001b[39m'\u001b[39m\u001b[39m: \u001b[39m\u001b[39m{\u001b[39;00mexc\u001b[39m}\u001b[39;00m\u001b[39m\"\u001b[39m)\n\u001b[0;32m-> 2687\u001b[0m \u001b[39mraise\u001b[39;00m ex \u001b[39mfrom\u001b[39;00m \u001b[39mexc\u001b[39;00m\n",
            "\u001b[0;31mDatabaseError\u001b[0m: Execution failed on sql '\nSELECT \n    yearID,\n    AVG(salary) AS avg_salary\n    FROM\n        Salaries\n    WHERE\n        yearID BETWEEN 1990 AND 2014\n    GROUP BY\n        yearID\n     ': no such table: Salaries"
          ]
        }
      ],
      "source": [
        "conn = sqlite3.connect(\"lahman2014.sqlite\")\n",
        "\n",
        "query_salaryAVG = \"\"\"\n",
        "SELECT \n",
        "    yearID,\n",
        "    AVG(salary) AS avg_salary\n",
        "    FROM\n",
        "        Salaries\n",
        "    WHERE\n",
        "        yearID BETWEEN 1990 AND 2014\n",
        "    GROUP BY\n",
        "        yearID\n",
        "     \"\"\"\n",
        "\n",
        "payrolls_data = pd.read_sql(query_salaryAVG, conn)\n",
        "\n",
        "conn.close()\n",
        "\n",
        "plt.figure(figsize=(10, 8))\n",
        "\n",
        "avg_salary = []\n",
        "for i in range(len(payrolls_data)):\n",
        "    avg_salary.append(payrolls_data[\"avg_salary\"][i])\n",
        "\n",
        "plt.plot(payrolls_data[\"yearID\"], avg_salary, linestyle='-', marker='o', markersize=4, linewidth=2, color='blue')\n",
        "\n",
        "plt.xlabel('Year')\n",
        "plt.ylabel('Average Salary (All Teams)')\n",
        "plt.title('Average Salary by Year')\n",
        "plt.grid(True)\n",
        "plt.legend(['Average Salary'], loc='upper left', bbox_to_anchor=(1, 1))  # Adjust legend\n",
        "plt.tight_layout()\n",
        "plt.savefig('salary_by_year.png')\n",
        "\n",
        "\n",
        "\n",
        "plt.tight_layout()\n",
        "\n",
        "plt.show()\n",
        "plt.close()\n",
        "\n"
      ]
    },
    {
      "attachments": {},
      "cell_type": "markdown",
      "metadata": {},
      "source": [
        "### Correlation between payroll and winning percentage\n",
        "#### Problem 4\n"
      ]
    },
    {
      "cell_type": "code",
      "execution_count": null,
      "metadata": {},
      "outputs": [
        {
          "ename": "OperationalError",
          "evalue": "near \"LEFT\": syntax error",
          "output_type": "error",
          "traceback": [
            "\u001b[0;31m---------------------------------------------------------------------------\u001b[0m",
            "\u001b[0;31mOperationalError\u001b[0m                          Traceback (most recent call last)",
            "Cell \u001b[0;32mIn[12], line 31\u001b[0m\n\u001b[1;32m      2\u001b[0m conn \u001b[39m=\u001b[39m sqlite3\u001b[39m.\u001b[39mconnect(\u001b[39m\"\u001b[39m\u001b[39mlahman2014.sqlite\u001b[39m\u001b[39m\"\u001b[39m)\n\u001b[1;32m      4\u001b[0m query_winning \u001b[39m=\u001b[39m \u001b[39m\"\"\"\u001b[39m\n\u001b[1;32m      5\u001b[0m \u001b[39mSELECT\u001b[39m\n\u001b[1;32m      6\u001b[0m \u001b[39m    t.teamID,\u001b[39m\n\u001b[0;32m   (...)\u001b[0m\n\u001b[1;32m     28\u001b[0m \u001b[39m) s ON t.teamID = s.teamID AND t.yearID = s.yearID\u001b[39m\n\u001b[1;32m     29\u001b[0m \u001b[39m\"\"\"\u001b[39m\n\u001b[0;32m---> 31\u001b[0m conn\u001b[39m.\u001b[39;49mexecute(query_winning)\n\u001b[1;32m     32\u001b[0m winning_data \u001b[39m=\u001b[39m pd\u001b[39m.\u001b[39mread_sql(query_winning, conn)\n\u001b[1;32m     34\u001b[0m conn\u001b[39m.\u001b[39mclose()\n",
            "\u001b[0;31mOperationalError\u001b[0m: near \"LEFT\": syntax error"
          ]
        }
      ],
      "source": []
    }
  ],
  "metadata": {
    "colab": {
      "provenance": []
    },
    "kernelspec": {
      "display_name": "Python 3",
      "name": "python3"
    },
    "language_info": {
      "codemirror_mode": {
        "name": "ipython",
        "version": 3
      },
      "file_extension": ".py",
      "mimetype": "text/x-python",
      "name": "python",
      "nbconvert_exporter": "python",
      "pygments_lexer": "ipython3",
      "version": "3.11.7"
    }
  },
  "nbformat": 4,
  "nbformat_minor": 0
}
